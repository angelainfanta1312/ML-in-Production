{
  "nbformat": 4,
  "nbformat_minor": 0,
  "metadata": {
    "kernelspec": {
      "display_name": "Python 3",
      "language": "python",
      "name": "python3"
    },
    "language_info": {
      "codemirror_mode": {
        "name": "ipython",
        "version": 3
      },
      "file_extension": ".py",
      "mimetype": "text/x-python",
      "name": "python",
      "nbconvert_exporter": "python",
      "pygments_lexer": "ipython3",
      "version": "3.6.8"
    },
    "colab": {
      "name": "Copy of C3_W2_Lab_1_Manual_Dimensionality.ipynb",
      "provenance": [],
      "collapsed_sections": [],
      "machine_shape": "hm",
      "include_colab_link": true
    },
    "gpuClass": "standard"
  },
  "cells": [
    {
      "cell_type": "markdown",
      "metadata": {
        "id": "view-in-github",
        "colab_type": "text"
      },
      "source": [
        "<a href=\"https://colab.research.google.com/github/angelainfanta1312/ML-in-Production/blob/main/Copy_of_C3_W2_Lab_1_Manual_Dimensionality.ipynb\" target=\"_parent\"><img src=\"https://colab.research.google.com/assets/colab-badge.svg\" alt=\"Open In Colab\"/></a>"
      ]
    },
    {
      "cell_type": "markdown",
      "metadata": {
        "id": "-oaTnIQF9V9m"
      },
      "source": [
        "# Ungraded lab: Manual Feature Engineering\n",
        "------------------------\n",
        " \n",
        "Welcome, during this ungraded lab you are going to perform feature engineering using TensorFlow and Keras. By having a deeper understanding of the problem you are dealing with and proposing transformations to the raw features you will see how the predictive power of your model increases. In particular you will:\n",
        "\n",
        "\n",
        "1. Define the model using feature columns.\n",
        "2. Use Lambda layers to perform feature engineering on some of these features.\n",
        "3. Compare the training history and predictions of the model before and after feature engineering.\n",
        "\n",
        "**Note**: This lab has some tweaks compared to the code you just saw on the lectures. The major one being that time-related variables are not used in the feature engineered model.\n",
        "\n",
        "Let's get started!"
      ]
    },
    {
      "cell_type": "markdown",
      "metadata": {
        "id": "0P7VGW6w9V9n"
      },
      "source": [
        "First, install and import the necessary packages, set up paths to work on and download the dataset.\n",
        "\n",
        "## Imports"
      ]
    },
    {
      "cell_type": "code",
      "metadata": {
        "id": "GJlL4SaV9V9v"
      },
      "source": [
        "# Import the packages\n",
        "\n",
        "# Utilities\n",
        "import os\n",
        "import logging\n",
        "\n",
        "# For visualization\n",
        "import matplotlib as mpl\n",
        "import matplotlib.pyplot as plt\n",
        "import pandas as pd\n",
        "\n",
        "# For modelling\n",
        "import tensorflow as tf\n",
        "from tensorflow import feature_column as fc\n",
        "from tensorflow.keras import layers, models\n",
        "\n",
        "# Set TF logger to only print errors (dismiss warnings)\n",
        "logging.getLogger(\"tensorflow\").setLevel(logging.ERROR)"
      ],
      "execution_count": null,
      "outputs": []
    },
    {
      "cell_type": "markdown",
      "metadata": {
        "id": "RvhL6GAI9V9z"
      },
      "source": [
        "## Load taxifare dataset\n",
        "\n",
        "For this lab you are going to use a tweaked version of the [Taxi Fare dataset](https://www.kaggle.com/c/new-york-city-taxi-fare-prediction/data), which has been pre-processed and split beforehand. \n",
        "\n",
        "First, create the directory where the data is going to be saved.\n",
        "\n"
      ]
    },
    {
      "cell_type": "code",
      "metadata": {
        "id": "SCvWVB4H9V90"
      },
      "source": [
        "if not os.path.isdir(\"/tmp/data\"):\n",
        "    os.makedirs(\"/tmp/data\")"
      ],
      "execution_count": null,
      "outputs": []
    },
    {
      "cell_type": "markdown",
      "metadata": {
        "id": "yC5BEPLxm2uP"
      },
      "source": [
        "Now download the data in `csv` format from a cloud storage bucket."
      ]
    },
    {
      "cell_type": "code",
      "metadata": {
        "id": "rKH_WXZH9V94",
        "colab": {
          "base_uri": "https://localhost:8080/"
        },
        "outputId": "4fdf4889-83ad-4cc0-e85d-a99410119a27"
      },
      "source": [
        "!gsutil cp gs://cloud-training-demos/feat_eng/data/taxi*.csv /tmp/data"
      ],
      "execution_count": null,
      "outputs": [
        {
          "output_type": "stream",
          "name": "stdout",
          "text": [
            "Copying gs://cloud-training-demos/feat_eng/data/taxi-test.csv...\n",
            "Copying gs://cloud-training-demos/feat_eng/data/taxi-train.csv...\n",
            "Copying gs://cloud-training-demos/feat_eng/data/taxi-valid.csv...\n",
            "- [3 files][  5.3 MiB/  5.3 MiB]                                                \n",
            "Operation completed over 3 objects/5.3 MiB.                                      \n"
          ]
        }
      ]
    },
    {
      "cell_type": "markdown",
      "metadata": {
        "id": "HIEJqz359V96"
      },
      "source": [
        "Let's check that the files were copied correctly and look like we expect them to."
      ]
    },
    {
      "cell_type": "code",
      "metadata": {
        "id": "RW6Sm4799V97",
        "colab": {
          "base_uri": "https://localhost:8080/"
        },
        "outputId": "4cf6bfc1-ce42-4a4e-9b97-8bcd11dfa7fe"
      },
      "source": [
        "!ls -l /tmp/data/*.csv"
      ],
      "execution_count": null,
      "outputs": [
        {
          "output_type": "stream",
          "name": "stdout",
          "text": [
            "-rw-r--r-- 1 root root 1113292 Jul 11 08:33 /tmp/data/taxi-test.csv\n",
            "-rw-r--r-- 1 root root 3551735 Jul 11 08:33 /tmp/data/taxi-train.csv\n",
            "-rw-r--r-- 1 root root  888648 Jul 11 08:33 /tmp/data/taxi-valid.csv\n"
          ]
        }
      ]
    },
    {
      "cell_type": "markdown",
      "metadata": {
        "id": "EStEEdDsnXHW"
      },
      "source": [
        "Everything looks fine. Notice that there are three files, one for each split of `training`, `testing` and `validation`.\n",
        "\n",
        "## Inspect tha data\n",
        "\n",
        "Now take a look at the training data."
      ]
    },
    {
      "cell_type": "code",
      "metadata": {
        "id": "1bUQlBaCCfSD",
        "colab": {
          "base_uri": "https://localhost:8080/",
          "height": 214
        },
        "outputId": "c1d2cf8b-2ede-49a6-f53d-a51924fc92c6"
      },
      "source": [
        "pd.read_csv('/tmp/data/taxi-train.csv').head()"
      ],
      "execution_count": null,
      "outputs": [
        {
          "output_type": "execute_result",
          "data": {
            "text/plain": [
              "   fare_amount  passenger_count  pickup_longitude  pickup_latitude  \\\n",
              "0          8.1                1        -73.973731        40.791910   \n",
              "1          4.5                2        -73.986495        40.739278   \n",
              "2          2.9                1        -73.956043        40.772026   \n",
              "3          7.0                1        -74.006557        40.705797   \n",
              "4          6.5                1        -73.986443        40.741612   \n",
              "\n",
              "   dropoff_longitude  dropoff_latitude  hourofday  dayofweek  \n",
              "0         -73.962737         40.767318         14          4  \n",
              "1         -73.986083         40.730933         10          6  \n",
              "2         -73.956245         40.773934         22          3  \n",
              "3         -73.980017         40.713617          6          3  \n",
              "4         -73.990215         40.746467         10          2  "
            ],
            "text/html": [
              "\n",
              "  <div id=\"df-0f212f87-c6cd-4b63-8c14-561d6e64ff44\">\n",
              "    <div class=\"colab-df-container\">\n",
              "      <div>\n",
              "<style scoped>\n",
              "    .dataframe tbody tr th:only-of-type {\n",
              "        vertical-align: middle;\n",
              "    }\n",
              "\n",
              "    .dataframe tbody tr th {\n",
              "        vertical-align: top;\n",
              "    }\n",
              "\n",
              "    .dataframe thead th {\n",
              "        text-align: right;\n",
              "    }\n",
              "</style>\n",
              "<table border=\"1\" class=\"dataframe\">\n",
              "  <thead>\n",
              "    <tr style=\"text-align: right;\">\n",
              "      <th></th>\n",
              "      <th>fare_amount</th>\n",
              "      <th>passenger_count</th>\n",
              "      <th>pickup_longitude</th>\n",
              "      <th>pickup_latitude</th>\n",
              "      <th>dropoff_longitude</th>\n",
              "      <th>dropoff_latitude</th>\n",
              "      <th>hourofday</th>\n",
              "      <th>dayofweek</th>\n",
              "    </tr>\n",
              "  </thead>\n",
              "  <tbody>\n",
              "    <tr>\n",
              "      <th>0</th>\n",
              "      <td>8.1</td>\n",
              "      <td>1</td>\n",
              "      <td>-73.973731</td>\n",
              "      <td>40.791910</td>\n",
              "      <td>-73.962737</td>\n",
              "      <td>40.767318</td>\n",
              "      <td>14</td>\n",
              "      <td>4</td>\n",
              "    </tr>\n",
              "    <tr>\n",
              "      <th>1</th>\n",
              "      <td>4.5</td>\n",
              "      <td>2</td>\n",
              "      <td>-73.986495</td>\n",
              "      <td>40.739278</td>\n",
              "      <td>-73.986083</td>\n",
              "      <td>40.730933</td>\n",
              "      <td>10</td>\n",
              "      <td>6</td>\n",
              "    </tr>\n",
              "    <tr>\n",
              "      <th>2</th>\n",
              "      <td>2.9</td>\n",
              "      <td>1</td>\n",
              "      <td>-73.956043</td>\n",
              "      <td>40.772026</td>\n",
              "      <td>-73.956245</td>\n",
              "      <td>40.773934</td>\n",
              "      <td>22</td>\n",
              "      <td>3</td>\n",
              "    </tr>\n",
              "    <tr>\n",
              "      <th>3</th>\n",
              "      <td>7.0</td>\n",
              "      <td>1</td>\n",
              "      <td>-74.006557</td>\n",
              "      <td>40.705797</td>\n",
              "      <td>-73.980017</td>\n",
              "      <td>40.713617</td>\n",
              "      <td>6</td>\n",
              "      <td>3</td>\n",
              "    </tr>\n",
              "    <tr>\n",
              "      <th>4</th>\n",
              "      <td>6.5</td>\n",
              "      <td>1</td>\n",
              "      <td>-73.986443</td>\n",
              "      <td>40.741612</td>\n",
              "      <td>-73.990215</td>\n",
              "      <td>40.746467</td>\n",
              "      <td>10</td>\n",
              "      <td>2</td>\n",
              "    </tr>\n",
              "  </tbody>\n",
              "</table>\n",
              "</div>\n",
              "      <button class=\"colab-df-convert\" onclick=\"convertToInteractive('df-0f212f87-c6cd-4b63-8c14-561d6e64ff44')\"\n",
              "              title=\"Convert this dataframe to an interactive table.\"\n",
              "              style=\"display:none;\">\n",
              "        \n",
              "  <svg xmlns=\"http://www.w3.org/2000/svg\" height=\"24px\"viewBox=\"0 0 24 24\"\n",
              "       width=\"24px\">\n",
              "    <path d=\"M0 0h24v24H0V0z\" fill=\"none\"/>\n",
              "    <path d=\"M18.56 5.44l.94 2.06.94-2.06 2.06-.94-2.06-.94-.94-2.06-.94 2.06-2.06.94zm-11 1L8.5 8.5l.94-2.06 2.06-.94-2.06-.94L8.5 2.5l-.94 2.06-2.06.94zm10 10l.94 2.06.94-2.06 2.06-.94-2.06-.94-.94-2.06-.94 2.06-2.06.94z\"/><path d=\"M17.41 7.96l-1.37-1.37c-.4-.4-.92-.59-1.43-.59-.52 0-1.04.2-1.43.59L10.3 9.45l-7.72 7.72c-.78.78-.78 2.05 0 2.83L4 21.41c.39.39.9.59 1.41.59.51 0 1.02-.2 1.41-.59l7.78-7.78 2.81-2.81c.8-.78.8-2.07 0-2.86zM5.41 20L4 18.59l7.72-7.72 1.47 1.35L5.41 20z\"/>\n",
              "  </svg>\n",
              "      </button>\n",
              "      \n",
              "  <style>\n",
              "    .colab-df-container {\n",
              "      display:flex;\n",
              "      flex-wrap:wrap;\n",
              "      gap: 12px;\n",
              "    }\n",
              "\n",
              "    .colab-df-convert {\n",
              "      background-color: #E8F0FE;\n",
              "      border: none;\n",
              "      border-radius: 50%;\n",
              "      cursor: pointer;\n",
              "      display: none;\n",
              "      fill: #1967D2;\n",
              "      height: 32px;\n",
              "      padding: 0 0 0 0;\n",
              "      width: 32px;\n",
              "    }\n",
              "\n",
              "    .colab-df-convert:hover {\n",
              "      background-color: #E2EBFA;\n",
              "      box-shadow: 0px 1px 2px rgba(60, 64, 67, 0.3), 0px 1px 3px 1px rgba(60, 64, 67, 0.15);\n",
              "      fill: #174EA6;\n",
              "    }\n",
              "\n",
              "    [theme=dark] .colab-df-convert {\n",
              "      background-color: #3B4455;\n",
              "      fill: #D2E3FC;\n",
              "    }\n",
              "\n",
              "    [theme=dark] .colab-df-convert:hover {\n",
              "      background-color: #434B5C;\n",
              "      box-shadow: 0px 1px 3px 1px rgba(0, 0, 0, 0.15);\n",
              "      filter: drop-shadow(0px 1px 2px rgba(0, 0, 0, 0.3));\n",
              "      fill: #FFFFFF;\n",
              "    }\n",
              "  </style>\n",
              "\n",
              "      <script>\n",
              "        const buttonEl =\n",
              "          document.querySelector('#df-0f212f87-c6cd-4b63-8c14-561d6e64ff44 button.colab-df-convert');\n",
              "        buttonEl.style.display =\n",
              "          google.colab.kernel.accessAllowed ? 'block' : 'none';\n",
              "\n",
              "        async function convertToInteractive(key) {\n",
              "          const element = document.querySelector('#df-0f212f87-c6cd-4b63-8c14-561d6e64ff44');\n",
              "          const dataTable =\n",
              "            await google.colab.kernel.invokeFunction('convertToInteractive',\n",
              "                                                     [key], {});\n",
              "          if (!dataTable) return;\n",
              "\n",
              "          const docLinkHtml = 'Like what you see? Visit the ' +\n",
              "            '<a target=\"_blank\" href=https://colab.research.google.com/notebooks/data_table.ipynb>data table notebook</a>'\n",
              "            + ' to learn more about interactive tables.';\n",
              "          element.innerHTML = '';\n",
              "          dataTable['output_type'] = 'display_data';\n",
              "          await google.colab.output.renderOutput(dataTable, element);\n",
              "          const docLink = document.createElement('div');\n",
              "          docLink.innerHTML = docLinkHtml;\n",
              "          element.appendChild(docLink);\n",
              "        }\n",
              "      </script>\n",
              "    </div>\n",
              "  </div>\n",
              "  "
            ]
          },
          "metadata": {},
          "execution_count": 5
        }
      ]
    },
    {
      "cell_type": "markdown",
      "metadata": {
        "id": "b1ybIPxDnGTS"
      },
      "source": [
        "The data contains a total of 8 variables.\n",
        "\n",
        "The `fare_amount` is the target, the continuous value we’ll train a model to predict. This leaves you with 7 features. \n",
        "\n",
        "However this lab is going to focus on transforming the geospatial ones so the time features `hourofday` and `dayofweek` will be ignored."
      ]
    },
    {
      "cell_type": "markdown",
      "metadata": {
        "id": "pcIlWn3H9V-E"
      },
      "source": [
        "## Create an input pipeline \n",
        "\n",
        "To load the data for the model you are going to use an experimental feature of Tensorflow that lets loading directly from a `csv` file.\n",
        "\n",
        "For this you need to define some lists containing relevant information of the dataset such as the type of the columns."
      ]
    },
    {
      "cell_type": "code",
      "metadata": {
        "id": "cxC3Qjx19V-E"
      },
      "source": [
        "# Specify which column is the target\n",
        "LABEL_COLUMN = 'fare_amount'\n",
        "\n",
        "# Specify numerical columns\n",
        "# Note you should create another list with STRING_COLS if you \n",
        "# had text data but in this case all features are numerical\n",
        "NUMERIC_COLS = ['pickup_longitude', 'pickup_latitude',\n",
        "                'dropoff_longitude', 'dropoff_latitude',\n",
        "                'passenger_count', 'hourofday', 'dayofweek']\n",
        "\n",
        "\n",
        "# A function to separate features and labels\n",
        "def features_and_labels(row_data):\n",
        "    label = row_data.pop(LABEL_COLUMN)\n",
        "    return row_data, label\n",
        "\n",
        "\n",
        "# A utility method to create a tf.data dataset from a CSV file\n",
        "def load_dataset(pattern, batch_size=1, mode='eval'):\n",
        "    dataset = tf.data.experimental.make_csv_dataset(pattern, batch_size)\n",
        "    \n",
        "    dataset = dataset.map(features_and_labels)  # features, label\n",
        "    if mode == 'train':\n",
        "        # Notice the repeat method is used so this dataset will loop infinitely\n",
        "        dataset = dataset.shuffle(1000).repeat()\n",
        "        # take advantage of multi-threading; 1=AUTOTUNE\n",
        "        dataset = dataset.prefetch(1)\n",
        "    return dataset"
      ],
      "execution_count": null,
      "outputs": []
    },
    {
      "cell_type": "markdown",
      "metadata": {
        "id": "uAhDWtck9V-K"
      },
      "source": [
        "## Create a DNN Model in Keras\n",
        "\n",
        "Now you will build a simple Neural Network with the numerical features as input represented by a [`DenseFeatures`](https://www.tensorflow.org/api_docs/python/tf/keras/layers/DenseFeatures) layer (which produces a dense Tensor based on the given features), two dense layers with ReLU activation functions and an output layer with a linear activation function (since this is a regression problem).\n",
        "\n",
        "Since the model is defined using `feature columns` the first layer might look different to what you are used to. This is done by declaring two dictionaries, one for the inputs (defined as Input layers) and one for the features (defined as feature columns).\n",
        "\n",
        "Then computing the `DenseFeatures` tensor by passing in the feature columns to the constructor of the `DenseFeatures` layer and passing in the inputs to the resulting tensor (this is easier to understand with code):"
      ]
    },
    {
      "cell_type": "code",
      "metadata": {
        "id": "5jheXumL9V-K"
      },
      "source": [
        "def build_dnn_model():\n",
        "    # input layer\n",
        "    inputs = {\n",
        "        colname: layers.Input(name=colname, shape=(), dtype='float32')\n",
        "        for colname in NUMERIC_COLS\n",
        "    }\n",
        "\n",
        "    # feature_columns\n",
        "    feature_columns = {\n",
        "        colname: fc.numeric_column(colname)\n",
        "        for colname in NUMERIC_COLS\n",
        "    }\n",
        "\n",
        "    # Constructor for DenseFeatures takes a list of numeric columns\n",
        "    # and the resulting tensor takes a dictionary of Input layers\n",
        "    dnn_inputs = layers.DenseFeatures(feature_columns.values())(inputs)\n",
        "\n",
        "    # two hidden layers of 32 and 8 units, respectively\n",
        "    h1 = layers.Dense(32, activation='relu', name='h1')(dnn_inputs)\n",
        "    h2 = layers.Dense(8, activation='relu', name='h2')(h1)\n",
        "\n",
        "    # final output is a linear activation because this is a regression problem\n",
        "    output = layers.Dense(1, activation='linear', name='fare')(h2)\n",
        "\n",
        "    # Create model with inputs and output\n",
        "    model = models.Model(inputs, output)\n",
        "\n",
        "    # compile model (Mean Squared Error is suitable for regression)\n",
        "    model.compile(optimizer='adam', \n",
        "                  loss='mse', \n",
        "                  metrics=[\n",
        "                      tf.keras.metrics.RootMeanSquaredError(name='rmse'), \n",
        "                      'mse'\n",
        "                  ])\n",
        "\n",
        "    return model"
      ],
      "execution_count": null,
      "outputs": []
    },
    {
      "cell_type": "markdown",
      "metadata": {
        "id": "FuKLnld69V-N"
      },
      "source": [
        "We'll build our DNN model and inspect the model architecture."
      ]
    },
    {
      "cell_type": "code",
      "metadata": {
        "id": "EnvtEUnd9V-N",
        "colab": {
          "base_uri": "https://localhost:8080/",
          "height": 610
        },
        "outputId": "b43f86a4-d43b-47e5-8f1b-25984c97a7ba"
      },
      "source": [
        "# Save compiled model into a variable\n",
        "model = build_dnn_model()\n",
        "\n",
        "# Plot the layer architecture and relationship between input features\n",
        "tf.keras.utils.plot_model(model, 'dnn_model.png', show_shapes=False, rankdir='LR')"
      ],
      "execution_count": null,
      "outputs": [
        {
          "output_type": "execute_result",
          "data": {
            "text/plain": [
              "<IPython.core.display.Image object>"
            ],
            "image/png": "[encoded data removed]"
          },
          "metadata": {},
          "execution_count": 8
        }
      ]
    },
    {
      "cell_type": "markdown",
      "metadata": {
        "id": "ol9FVnFnayeU"
      },
      "source": [
        "With the model architecture defined it is time to train it!"
      ]
    },
    {
      "cell_type": "markdown",
      "metadata": {
        "id": "G5R1zEJj9V-Q"
      },
      "source": [
        "## Train the model\n",
        "\n",
        "You are going to train the model for 20 epochs using a batch size of 32."
      ]
    },
    {
      "cell_type": "code",
      "metadata": {
        "id": "AwW7dL8t9V-Q",
        "colab": {
          "base_uri": "https://localhost:8080/"
        },
        "outputId": "e4803d2c-4323-412b-9cb6-4b9f32565e1a"
      },
      "source": [
        "NUM_EPOCHS = 20\n",
        "TRAIN_BATCH_SIZE = 32 \n",
        "NUM_TRAIN_EXAMPLES = len(pd.read_csv('/tmp/data/taxi-train.csv'))\n",
        "NUM_EVAL_EXAMPLES = len(pd.read_csv('/tmp/data/taxi-valid.csv'))\n",
        "\n",
        "print(f\"training split has {NUM_TRAIN_EXAMPLES} examples\\n\")\n",
        "print(f\"evaluation split has {NUM_EVAL_EXAMPLES} examples\\n\")"
      ],
      "execution_count": null,
      "outputs": [
        {
          "output_type": "stream",
          "name": "stdout",
          "text": [
            "training split has 59620 examples\n",
            "\n",
            "evaluation split has 14905 examples\n",
            "\n"
          ]
        }
      ]
    },
    {
      "cell_type": "markdown",
      "metadata": {
        "id": "_D_sr3UQfpGj"
      },
      "source": [
        "Use the previously defined function to load the datasets from the original csv files."
      ]
    },
    {
      "cell_type": "code",
      "metadata": {
        "id": "NWwcyV6I9V-S",
        "colab": {
          "base_uri": "https://localhost:8080/"
        },
        "outputId": "2bf7b4b1-86bb-4aa2-91ec-dbf759fae68e"
      },
      "source": [
        "# Training dataset\n",
        "trainds = load_dataset('/tmp/data/taxi-train*', TRAIN_BATCH_SIZE, 'train')\n",
        "\n",
        "# Evaluation dataset\n",
        "evalds = load_dataset('/tmp/data/taxi-valid*', 1000, 'eval').take(NUM_EVAL_EXAMPLES//1000)\n",
        "\n",
        "# Needs to be specified since the dataset is infinite \n",
        "# This happens because the repeat method was used when creating the dataset\n",
        "steps_per_epoch = NUM_TRAIN_EXAMPLES // TRAIN_BATCH_SIZE\n",
        "\n",
        "# Train the model and save the history\n",
        "history = model.fit(trainds,\n",
        "                    validation_data=evalds,\n",
        "                    epochs=NUM_EPOCHS,\n",
        "                    steps_per_epoch=steps_per_epoch)"
      ],
      "execution_count": null,
      "outputs": [
        {
          "output_type": "stream",
          "name": "stdout",
          "text": [
            "Epoch 1/20\n",
            "1863/1863 [==============================] - 6s 2ms/step - loss: 104.4676 - rmse: 10.2209 - mse: 104.4676 - val_loss: 101.5704 - val_rmse: 10.0782 - val_mse: 101.5704\n",
            "Epoch 2/20\n",
            "1863/1863 [==============================] - 4s 2ms/step - loss: 101.9293 - rmse: 10.0960 - mse: 101.9293 - val_loss: 100.7571 - val_rmse: 10.0378 - val_mse: 100.7571\n",
            "Epoch 3/20\n",
            "1863/1863 [==============================] - 4s 2ms/step - loss: 101.8851 - rmse: 10.0938 - mse: 101.8851 - val_loss: 102.3319 - val_rmse: 10.1159 - val_mse: 102.3319\n",
            "Epoch 4/20\n",
            "1863/1863 [==============================] - 4s 2ms/step - loss: 101.4775 - rmse: 10.0736 - mse: 101.4775 - val_loss: 99.3960 - val_rmse: 9.9698 - val_mse: 99.3960\n",
            "Epoch 5/20\n",
            "1863/1863 [==============================] - 4s 2ms/step - loss: 101.7531 - rmse: 10.0873 - mse: 101.7531 - val_loss: 100.9233 - val_rmse: 10.0461 - val_mse: 100.9233\n",
            "Epoch 6/20\n",
            "1863/1863 [==============================] - 4s 2ms/step - loss: 101.9005 - rmse: 10.0946 - mse: 101.9005 - val_loss: 98.9176 - val_rmse: 9.9457 - val_mse: 98.9176\n",
            "Epoch 7/20\n",
            "1863/1863 [==============================] - 4s 2ms/step - loss: 101.7986 - rmse: 10.0895 - mse: 101.7986 - val_loss: 98.4151 - val_rmse: 9.9204 - val_mse: 98.4151\n",
            "Epoch 8/20\n",
            "1863/1863 [==============================] - 4s 2ms/step - loss: 103.8013 - rmse: 10.1883 - mse: 103.8013 - val_loss: 98.8279 - val_rmse: 9.9412 - val_mse: 98.8279\n",
            "Epoch 9/20\n",
            "1863/1863 [==============================] - 4s 2ms/step - loss: 101.0767 - rmse: 10.0537 - mse: 101.0767 - val_loss: 100.4519 - val_rmse: 10.0226 - val_mse: 100.4519\n",
            "Epoch 10/20\n",
            "1863/1863 [==============================] - 4s 2ms/step - loss: 101.8161 - rmse: 10.0904 - mse: 101.8161 - val_loss: 98.6059 - val_rmse: 9.9301 - val_mse: 98.6059\n",
            "Epoch 11/20\n",
            "1863/1863 [==============================] - 4s 2ms/step - loss: 101.5041 - rmse: 10.0749 - mse: 101.5041 - val_loss: 100.3224 - val_rmse: 10.0161 - val_mse: 100.3224\n",
            "Epoch 12/20\n",
            "1863/1863 [==============================] - 4s 2ms/step - loss: 100.8660 - rmse: 10.0432 - mse: 100.8660 - val_loss: 99.6968 - val_rmse: 9.9848 - val_mse: 99.6968\n",
            "Epoch 13/20\n",
            "1863/1863 [==============================] - 4s 2ms/step - loss: 102.3870 - rmse: 10.1186 - mse: 102.3870 - val_loss: 98.0651 - val_rmse: 9.9028 - val_mse: 98.0651\n",
            "Epoch 14/20\n",
            "1863/1863 [==============================] - 4s 2ms/step - loss: 102.2724 - rmse: 10.1130 - mse: 102.2724 - val_loss: 99.7602 - val_rmse: 9.9880 - val_mse: 99.7602\n",
            "Epoch 15/20\n",
            "1863/1863 [==============================] - 4s 2ms/step - loss: 101.1775 - rmse: 10.0587 - mse: 101.1775 - val_loss: 98.5846 - val_rmse: 9.9290 - val_mse: 98.5846\n",
            "Epoch 16/20\n",
            "1863/1863 [==============================] - 4s 2ms/step - loss: 101.0254 - rmse: 10.0511 - mse: 101.0254 - val_loss: 100.5046 - val_rmse: 10.0252 - val_mse: 100.5046\n",
            "Epoch 17/20\n",
            "1863/1863 [==============================] - 4s 2ms/step - loss: 103.1422 - rmse: 10.1559 - mse: 103.1422 - val_loss: 98.7484 - val_rmse: 9.9372 - val_mse: 98.7484\n",
            "Epoch 18/20\n",
            "1863/1863 [==============================] - 4s 2ms/step - loss: 99.1704 - rmse: 9.9584 - mse: 99.1704 - val_loss: 99.2448 - val_rmse: 9.9622 - val_mse: 99.2448\n",
            "Epoch 19/20\n",
            "1863/1863 [==============================] - 4s 2ms/step - loss: 99.4802 - rmse: 9.9740 - mse: 99.4802 - val_loss: 98.5701 - val_rmse: 9.9282 - val_mse: 98.5701\n",
            "Epoch 20/20\n",
            "1863/1863 [==============================] - 4s 2ms/step - loss: 103.0058 - rmse: 10.1492 - mse: 103.0058 - val_loss: 99.3615 - val_rmse: 9.9680 - val_mse: 99.3615\n"
          ]
        }
      ]
    },
    {
      "cell_type": "markdown",
      "metadata": {
        "id": "MbcJqYFu9V-V"
      },
      "source": [
        "### Visualize training curves\n",
        "\n",
        "Now lets visualize the training history of the model with the raw features:"
      ]
    },
    {
      "cell_type": "code",
      "metadata": {
        "id": "yVlOutPY9V-V",
        "colab": {
          "base_uri": "https://localhost:8080/",
          "height": 350
        },
        "outputId": "bacfdbd4-e644-4d34-ba0c-28d6e2a3e876"
      },
      "source": [
        "# Function for plotting metrics for a given history\n",
        "def plot_curves(history, metrics):\n",
        "    nrows = 1\n",
        "    ncols = 2\n",
        "    fig = plt.figure(figsize=(10, 5))\n",
        "\n",
        "    for idx, key in enumerate(metrics):  \n",
        "        ax = fig.add_subplot(nrows, ncols, idx+1)\n",
        "        plt.plot(history.history[key])\n",
        "        plt.plot(history.history[f'val_{key}'])\n",
        "        plt.title(f'model {key}')\n",
        "        plt.ylabel(key)\n",
        "        plt.xlabel('epoch')\n",
        "        plt.legend(['train', 'validation'], loc='upper left')\n",
        "\n",
        "\n",
        "# Plot history metrics\n",
        "plot_curves(history, ['loss', 'mse'])"
      ],
      "execution_count": null,
      "outputs": [
        {
          "output_type": "display_data",
          "data": {
            "text/plain": [
              "<Figure size 720x360 with 2 Axes>"
            ],
            "image/png": "[encoded data removed]"
          },
          "metadata": {
            "needs_background": "light"
          }
        }
      ]
    },
    {
      "cell_type": "markdown",
      "metadata": {
        "id": "NUpJkrpNhm8-"
      },
      "source": [
        "The training history doesn't look very promising showing an erratic behaviour. Looks like the training process struggled to transverse the high dimensional space that the current features create. \n",
        "\n",
        "Nevertheless let's use it for prediction.\n",
        "\n",
        "Notice that the latitude and longitude values should revolve around (`37`, `45`) and (`-70`, `-78`) respectively since these are the range of coordinates for New York city."
      ]
    },
    {
      "cell_type": "code",
      "metadata": {
        "id": "mtNMWIg69V-a",
        "colab": {
          "base_uri": "https://localhost:8080/"
        },
        "outputId": "3cded13a-6945-42c3-af51-3f64ac1c4d67"
      },
      "source": [
        "# Define a taxi ride (a data point)\n",
        "taxi_ride = {\n",
        "    'pickup_longitude': tf.convert_to_tensor([-73.982683]),\n",
        "    'pickup_latitude': tf.convert_to_tensor([40.742104]),\n",
        "    'dropoff_longitude': tf.convert_to_tensor([-73.983766]),\n",
        "    'dropoff_latitude': tf.convert_to_tensor([40.755174]),\n",
        "    'passenger_count': tf.convert_to_tensor([3.0]),\n",
        "    'hourofday': tf.convert_to_tensor([3.0]),\n",
        "    'dayofweek': tf.convert_to_tensor([3.0]),\n",
        "}\n",
        "\n",
        "# Use the model to predict\n",
        "prediction = model.predict(taxi_ride, steps=1)\n",
        "\n",
        "# Print prediction\n",
        "print(f\"the model predicted a fare total of {float(prediction):.2f} USD for the ride.\")"
      ],
      "execution_count": null,
      "outputs": [
        {
          "output_type": "stream",
          "name": "stdout",
          "text": [
            "the model predicted a fare total of 11.12 USD for the ride.\n"
          ]
        }
      ]
    },
    {
      "cell_type": "markdown",
      "metadata": {
        "id": "fZhFMdh7ixN6"
      },
      "source": [
        "The model predicted this particular ride to be around 12 USD. However you know the model performance is not the best as it was showcased by the training history. Let's improve it by using **Feature Engineering**."
      ]
    },
    {
      "cell_type": "markdown",
      "metadata": {
        "id": "e1TNR8nI3Bdv"
      },
      "source": [
        "## Improve Model Performance Using Feature Engineering \n",
        "\n",
        "Going forward you will only use geo-spatial features as these are the most relevant when calculating the fare since this value is mostly dependant on the distance transversed:"
      ]
    },
    {
      "cell_type": "code",
      "metadata": {
        "id": "gRSTOWC7285u"
      },
      "source": [
        "# Drop dayofweek and hourofday features\n",
        "NUMERIC_COLS = ['pickup_longitude', 'pickup_latitude',\n",
        "                'dropoff_longitude', 'dropoff_latitude']"
      ],
      "execution_count": null,
      "outputs": []
    },
    {
      "cell_type": "markdown",
      "metadata": {
        "id": "Cm5rY2B_9V-d"
      },
      "source": [
        "Since you are dealing exclusively with geospatial data you will create some transformations that are aware of this geospatial nature. This help the model make a better representation of the problem at hand.\n",
        "\n",
        "For instance the model cannot magically understand what a coordinate is supposed to represent and since the data is taken from New York only, the latitude and longitude revolve around (`37`, `45`) and (`-70`, `-78`) respectively, which is arbitrary for the model. A good first step is to scale these values. \n",
        "\n",
        "**Notice all transformations are created by defining functions**."
      ]
    },
    {
      "cell_type": "code",
      "metadata": {
        "id": "-dOFcJJn9V-j"
      },
      "source": [
        "def scale_longitude(lon_column):\n",
        "    return (lon_column + 78)/8."
      ],
      "execution_count": null,
      "outputs": []
    },
    {
      "cell_type": "code",
      "metadata": {
        "id": "rGLNozez9V-m"
      },
      "source": [
        "def scale_latitude(lat_column):\n",
        "    return (lat_column - 37)/8."
      ],
      "execution_count": null,
      "outputs": []
    },
    {
      "cell_type": "markdown",
      "metadata": {
        "id": "NhMqPABOm4h1"
      },
      "source": [
        "Another important fact is that the fare of a taxi ride is proportional to the distance of the ride. But as the features currently are, there is no way for the model to infer that the pair of (`pickup_latitude`, `pickup_longitude`) represent the point where the passenger started the ride and the pair (`dropoff_latitude`, `dropoff_longitude`) represent the point where the ride ended. More importantly, the model is not aware that the distance between these two points is crucial for predicting the fare.\n",
        "\n",
        "To solve this, a new feature (which is a transformation of the other ones) that provides this information is required."
      ]
    },
    {
      "cell_type": "code",
      "metadata": {
        "id": "x-_yQj1S9V-g"
      },
      "source": [
        "def euclidean(params):\n",
        "    lon1, lat1, lon2, lat2 = params\n",
        "    londiff = lon2 - lon1\n",
        "    latdiff = lat2 - lat1\n",
        "    return tf.sqrt(londiff*londiff + latdiff*latdiff)"
      ],
      "execution_count": null,
      "outputs": []
    },
    {
      "cell_type": "markdown",
      "metadata": {
        "id": "Ss4nvMbP9V-o"
      },
      "source": [
        "### Applying transformations\n",
        "\n",
        "Now you will define the `transform` function which will apply the previously defined transformation functions. To apply the actual transformations you will be using `Lambda` layers apply a function to values (in this case the inputs).\n"
      ]
    },
    {
      "cell_type": "code",
      "metadata": {
        "id": "0kXOft7O9V-o"
      },
      "source": [
        "def transform(inputs, numeric_cols):\n",
        "\n",
        "    # Make a copy of the inputs to apply the transformations to\n",
        "    transformed = inputs.copy()\n",
        "\n",
        "    # Define feature columns\n",
        "    feature_columns = {\n",
        "        colname: tf.feature_column.numeric_column(colname)\n",
        "        for colname in numeric_cols\n",
        "    }\n",
        "\n",
        "    # Scaling longitude from range [-70, -78] to [0, 1]\n",
        "    for lon_col in ['pickup_longitude', 'dropoff_longitude']:\n",
        "        transformed[lon_col] = layers.Lambda(\n",
        "            scale_longitude,\n",
        "            name=f\"scale_{lon_col}\")(inputs[lon_col])\n",
        "\n",
        "    # Scaling latitude from range [37, 45] to [0, 1]\n",
        "    for lat_col in ['pickup_latitude', 'dropoff_latitude']:\n",
        "        transformed[lat_col] = layers.Lambda(\n",
        "            scale_latitude,\n",
        "            name=f'scale_{lat_col}')(inputs[lat_col])\n",
        "\n",
        "    # add Euclidean distance\n",
        "    transformed['euclidean'] = layers.Lambda(\n",
        "        euclidean,\n",
        "        name='euclidean')([inputs['pickup_longitude'],\n",
        "                           inputs['pickup_latitude'],\n",
        "                           inputs['dropoff_longitude'],\n",
        "                           inputs['dropoff_latitude']])\n",
        "        \n",
        "    \n",
        "    # Add euclidean distance to feature columns\n",
        "    feature_columns['euclidean'] = fc.numeric_column('euclidean')\n",
        "\n",
        "    return transformed, feature_columns"
      ],
      "execution_count": null,
      "outputs": []
    },
    {
      "cell_type": "markdown",
      "metadata": {
        "id": "K5HQT79B9V-s"
      },
      "source": [
        "## Update the model\n",
        "\n",
        "Next, you'll create the DNN model now with the engineered (transformed) features."
      ]
    },
    {
      "cell_type": "code",
      "metadata": {
        "id": "ULaSC25j9V-s"
      },
      "source": [
        "def build_dnn_model():\n",
        "    \n",
        "    # input layer (notice type of float32 since features are numeric)\n",
        "    inputs = {\n",
        "        colname: layers.Input(name=colname, shape=(), dtype='float32')\n",
        "        for colname in NUMERIC_COLS\n",
        "    }\n",
        "\n",
        "    # transformed features\n",
        "    transformed, feature_columns = transform(inputs, numeric_cols=NUMERIC_COLS)\n",
        "\n",
        "    # Constructor for DenseFeatures takes a list of numeric columns\n",
        "    # and the resulting tensor takes a dictionary of Lambda layers\n",
        "    dnn_inputs = layers.DenseFeatures(feature_columns.values())(transformed)\n",
        "\n",
        "    # two hidden layers of 32 and 8 units, respectively\n",
        "    h1 = layers.Dense(32, activation='relu', name='h1')(dnn_inputs)\n",
        "    h2 = layers.Dense(8, activation='relu', name='h2')(h1)\n",
        "\n",
        "    # final output is a linear activation because this is a regression problem\n",
        "    output = layers.Dense(1, activation='linear', name='fare')(h2)\n",
        "\n",
        "    # Create model with inputs and output\n",
        "    model = models.Model(inputs, output)\n",
        "\n",
        "    # Compile model (Mean Squared Error is suitable for regression)\n",
        "    model.compile(optimizer='adam', \n",
        "                  loss='mse', \n",
        "                  metrics=[tf.keras.metrics.RootMeanSquaredError(name='rmse'), 'mse'])\n",
        "    \n",
        "    return model"
      ],
      "execution_count": null,
      "outputs": []
    },
    {
      "cell_type": "code",
      "metadata": {
        "id": "cyNi1qgB9V-v"
      },
      "source": [
        "# Save compiled model into a variable\n",
        "model = build_dnn_model()"
      ],
      "execution_count": null,
      "outputs": []
    },
    {
      "cell_type": "markdown",
      "metadata": {
        "id": "LI9UTFc29V-x"
      },
      "source": [
        "Let's see how the model architecture has changed."
      ]
    },
    {
      "cell_type": "code",
      "metadata": {
        "id": "-vtdSjyJ9V-y",
        "colab": {
          "base_uri": "https://localhost:8080/",
          "height": 437
        },
        "outputId": "a2080ba6-0ddd-467e-94c3-7fbbe3725f65"
      },
      "source": [
        "# Plot the layer architecture and relationship between input features\n",
        "tf.keras.utils.plot_model(model, 'dnn_model_engineered.png', show_shapes=False, rankdir='LR')"
      ],
      "execution_count": null,
      "outputs": [
        {
          "output_type": "execute_result",
          "data": {
            "text/plain": [
              "<IPython.core.display.Image object>"
            ],
            "image/png": "[encoded data removed]"
          },
          "metadata": {},
          "execution_count": 20
        }
      ]
    },
    {
      "cell_type": "markdown",
      "metadata": {
        "id": "hQqxaAL-3X-V"
      },
      "source": [
        "This plot is very useful for understanding the relationships and dependencies between the original and the transformed features!\n",
        "\n",
        "**Notice that the input of the model now consists of 5 features instead of the original 7, thus reducing the dimensionality of the problem.**\n",
        "\n",
        "Let's now train the model that includes feature engineering."
      ]
    },
    {
      "cell_type": "code",
      "metadata": {
        "id": "M_rE0U9W9V-0",
        "colab": {
          "base_uri": "https://localhost:8080/"
        },
        "outputId": "328e5e87-c2e2-464e-90c3-34aa39922488"
      },
      "source": [
        "# Train the model and save the history\n",
        "history = model.fit(trainds,\n",
        "                    validation_data=evalds,\n",
        "                    epochs=NUM_EPOCHS,\n",
        "                    steps_per_epoch=steps_per_epoch)"
      ],
      "execution_count": null,
      "outputs": [
        {
          "output_type": "stream",
          "name": "stdout",
          "text": [
            "Epoch 1/20\n"
          ]
        },
        {
          "output_type": "stream",
          "name": "stderr",
          "text": [
            "/usr/local/lib/python3.7/dist-packages/keras/engine/functional.py:559: UserWarning: Input dict contained keys ['passenger_count', 'hourofday', 'dayofweek'] which did not match any model input. They will be ignored by the model.\n",
            "  inputs = self._flatten_to_reference_inputs(inputs)\n"
          ]
        },
        {
          "output_type": "stream",
          "name": "stdout",
          "text": [
            "1863/1863 [==============================] - 5s 2ms/step - loss: 149.8299 - rmse: 12.2405 - mse: 149.8299 - val_loss: 85.4645 - val_rmse: 9.2447 - val_mse: 85.4645\n",
            "Epoch 2/20\n",
            "1863/1863 [==============================] - 4s 2ms/step - loss: 56.2036 - rmse: 7.4969 - mse: 56.2036 - val_loss: 31.8207 - val_rmse: 5.6410 - val_mse: 31.8207\n",
            "Epoch 3/20\n",
            "1863/1863 [==============================] - 4s 2ms/step - loss: 31.8654 - rmse: 5.6449 - mse: 31.8654 - val_loss: 30.1210 - val_rmse: 5.4883 - val_mse: 30.1210\n",
            "Epoch 4/20\n",
            "1863/1863 [==============================] - 4s 2ms/step - loss: 26.8001 - rmse: 5.1769 - mse: 26.8001 - val_loss: 29.3618 - val_rmse: 5.4187 - val_mse: 29.3618\n",
            "Epoch 5/20\n",
            "1863/1863 [==============================] - 4s 2ms/step - loss: 30.3467 - rmse: 5.5088 - mse: 30.3467 - val_loss: 29.4680 - val_rmse: 5.4284 - val_mse: 29.4680\n",
            "Epoch 6/20\n",
            "1863/1863 [==============================] - 5s 2ms/step - loss: 29.1183 - rmse: 5.3961 - mse: 29.1183 - val_loss: 29.3977 - val_rmse: 5.4220 - val_mse: 29.3977\n",
            "Epoch 7/20\n",
            "1863/1863 [==============================] - 5s 3ms/step - loss: 27.3869 - rmse: 5.2332 - mse: 27.3869 - val_loss: 28.8952 - val_rmse: 5.3754 - val_mse: 28.8952\n",
            "Epoch 8/20\n",
            "1863/1863 [==============================] - 4s 2ms/step - loss: 25.7002 - rmse: 5.0695 - mse: 25.7002 - val_loss: 28.8870 - val_rmse: 5.3747 - val_mse: 28.8870\n",
            "Epoch 9/20\n",
            "1863/1863 [==============================] - 4s 2ms/step - loss: 27.6118 - rmse: 5.2547 - mse: 27.6118 - val_loss: 28.1912 - val_rmse: 5.3095 - val_mse: 28.1912\n",
            "Epoch 10/20\n",
            "1863/1863 [==============================] - 5s 3ms/step - loss: 27.4881 - rmse: 5.2429 - mse: 27.4881 - val_loss: 27.4828 - val_rmse: 5.2424 - val_mse: 27.4828\n",
            "Epoch 11/20\n",
            "1863/1863 [==============================] - 4s 2ms/step - loss: 25.6985 - rmse: 5.0694 - mse: 25.6985 - val_loss: 27.8247 - val_rmse: 5.2749 - val_mse: 27.8247\n",
            "Epoch 12/20\n",
            "1863/1863 [==============================] - 5s 2ms/step - loss: 25.4612 - rmse: 5.0459 - mse: 25.4612 - val_loss: 27.9847 - val_rmse: 5.2901 - val_mse: 27.9847\n",
            "Epoch 13/20\n",
            "1863/1863 [==============================] - 4s 2ms/step - loss: 27.9889 - rmse: 5.2905 - mse: 27.9889 - val_loss: 28.6439 - val_rmse: 5.3520 - val_mse: 28.6439\n",
            "Epoch 14/20\n",
            "1863/1863 [==============================] - 4s 2ms/step - loss: 24.7842 - rmse: 4.9784 - mse: 24.7842 - val_loss: 28.1357 - val_rmse: 5.3043 - val_mse: 28.1357\n",
            "Epoch 15/20\n",
            "1863/1863 [==============================] - 4s 2ms/step - loss: 25.2072 - rmse: 5.0207 - mse: 25.2072 - val_loss: 27.2709 - val_rmse: 5.2222 - val_mse: 27.2709\n",
            "Epoch 16/20\n",
            "1863/1863 [==============================] - 4s 2ms/step - loss: 26.5637 - rmse: 5.1540 - mse: 26.5637 - val_loss: 25.0662 - val_rmse: 5.0066 - val_mse: 25.0662\n",
            "Epoch 17/20\n",
            "1863/1863 [==============================] - 4s 2ms/step - loss: 25.7989 - rmse: 5.0793 - mse: 25.7989 - val_loss: 27.7589 - val_rmse: 5.2687 - val_mse: 27.7589\n",
            "Epoch 18/20\n",
            "1863/1863 [==============================] - 4s 2ms/step - loss: 25.0785 - rmse: 5.0078 - mse: 25.0785 - val_loss: 28.3460 - val_rmse: 5.3241 - val_mse: 28.3460\n",
            "Epoch 19/20\n",
            "1863/1863 [==============================] - 4s 2ms/step - loss: 23.8871 - rmse: 4.8874 - mse: 23.8871 - val_loss: 28.9972 - val_rmse: 5.3849 - val_mse: 28.9972\n",
            "Epoch 20/20\n",
            "1863/1863 [==============================] - 4s 2ms/step - loss: 27.9463 - rmse: 5.2864 - mse: 27.9463 - val_loss: 27.9579 - val_rmse: 5.2875 - val_mse: 27.9579\n"
          ]
        }
      ]
    },
    {
      "cell_type": "markdown",
      "metadata": {
        "id": "0vjGcFRx9V-2"
      },
      "source": [
        "Notice that the features `passenger_count`, `hourofday` and `dayofweek` were excluded since they were omitted when defining the input pipeline.\n",
        "\n",
        "Now lets visualize the training history of the model with the engineered features. "
      ]
    },
    {
      "cell_type": "code",
      "metadata": {
        "id": "vfacl2gP9V-2",
        "colab": {
          "base_uri": "https://localhost:8080/",
          "height": 350
        },
        "outputId": "19ff59e3-21a7-4ef5-9a09-f98310139cc4"
      },
      "source": [
        "# Plot history metrics\n",
        "plot_curves(history, ['loss', 'mse'])"
      ],
      "execution_count": null,
      "outputs": [
        {
          "output_type": "display_data",
          "data": {
            "text/plain": [
              "<Figure size 720x360 with 2 Axes>"
            ],
            "image/png": "[encoded data removed]"
          },
          "metadata": {
            "needs_background": "light"
          }
        }
      ]
    },
    {
      "cell_type": "markdown",
      "metadata": {
        "id": "WV8ZGZev9V-5"
      },
      "source": [
        "This looks a lot better than the previous training history! Now the loss and error metrics are decreasing with each epoch and both curves (train and validation) are very close to each other. Nice job!\n",
        "\n",
        "Let's do a prediction with this new model on the example we previously used. "
      ]
    },
    {
      "cell_type": "code",
      "metadata": {
        "id": "Biqounrh9V-5",
        "colab": {
          "base_uri": "https://localhost:8080/"
        },
        "outputId": "1ce9a79d-43a3-4bf7-e836-c19d0a4e90b3"
      },
      "source": [
        "# Use the model to predict\n",
        "prediction = model.predict(taxi_ride, steps=1)\n",
        "\n",
        "# Print prediction\n",
        "print(f\"the model predicted a fare total of {float(prediction):.2f} USD for the ride.\")"
      ],
      "execution_count": null,
      "outputs": [
        {
          "output_type": "stream",
          "name": "stdout",
          "text": [
            "the model predicted a fare total of 6.13 USD for the ride.\n"
          ]
        },
        {
          "output_type": "stream",
          "name": "stderr",
          "text": [
            "/usr/local/lib/python3.7/dist-packages/keras/engine/functional.py:559: UserWarning: Input dict contained keys ['passenger_count', 'hourofday', 'dayofweek'] which did not match any model input. They will be ignored by the model.\n",
            "  inputs = self._flatten_to_reference_inputs(inputs)\n"
          ]
        }
      ]
    },
    {
      "cell_type": "markdown",
      "metadata": {
        "id": "JVZCFMi74xrj"
      },
      "source": [
        "Wow, now the model predicts a fare that is roughly half of what the previous model predicted! Looks like the model with the raw features was overestimating the fare by a great margin.\n",
        "\n",
        "Notice that you get a warning since the `taxi_ride` dictionary contains information about the unused features. You can supress it by redefining `taxi_ride` without these values but it is useful to know that Keras is smart enough to handle it on its own."
      ]
    },
    {
      "cell_type": "markdown",
      "metadata": {
        "id": "qeMvthqfugsm"
      },
      "source": [
        "**Congratulations on finishing this ungraded lab!** Now you should have a clearer understanding of the importance and impact of performing feature engineering on your data. \n",
        "\n",
        "This process is very domain-specific and requires a great understanding of the situation that is being modelled. Because of this, new techniques that switch from a manual to an automatic feature engineering have been developed and you will check some of them in an upcoming lab.\n",
        "\n",
        "\n",
        "**Keep it up!**"
      ]
    }
  ]
}